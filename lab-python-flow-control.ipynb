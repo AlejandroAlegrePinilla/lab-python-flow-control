{
 "cells": [
  {
   "cell_type": "markdown",
   "id": "d3bfc191-8885-42ee-b0a0-bbab867c6f9f",
   "metadata": {
    "tags": []
   },
   "source": [
    "# Lab | Flow Control"
   ]
  },
  {
   "cell_type": "markdown",
   "id": "3851fcd1-cf98-4653-9c89-e003b7ec9400",
   "metadata": {},
   "source": [
    "## Exercise: Managing Customer Orders Optimized\n",
    "\n",
    "In the last lab, you were starting an online store that sells various products. To ensure smooth operations, you developed a program that manages customer orders and inventory.\n",
    "\n",
    "You did so without using flow control. Let's go a step further and improve this code.\n",
    "\n",
    "Follow the steps below to complete the exercise:\n",
    "\n",
    "1. Look at your code from the lab data structures, and improve repeated code with loops.\n",
    "\n",
    "2. Instead of asking the user to input the name of three products that a customer wants to order, do the following:\n",
    "    \n",
    "    a. Prompt the user to enter the name of a product that a customer wants to order.\n",
    "    \n",
    "    b. Add the product name to the \"customer_orders\" set.\n",
    "    \n",
    "    c. Ask the user if they want to add another product (yes/no).\n",
    "    \n",
    "    d. Continue the loop until the user does not want to add another product.\n",
    "\n",
    "3. Instead of updating the inventory by subtracting 1 from the quantity of each product, only do it for  the products that were ordered (those in \"customer_orders\")."
   ]
  },
  {
   "cell_type": "code",
   "execution_count": 1,
   "id": "68f88702",
   "metadata": {},
   "outputs": [
    {
     "name": "stdout",
     "output_type": "stream",
     "text": [
      "Inventory: {'t-shirt': 6, 'mug': 5, 'hat': 9, 'book': 6, 'keychain': 5}\n"
     ]
    }
   ],
   "source": [
    "#Creamos el listado de productos y el inventario\n",
    "\n",
    "products = [\"t-shirt\", \"mug\", \"hat\", \"book\", \"keychain\"]               \n",
    "inventory = {}\n",
    "\n",
    "for product in products:\n",
    "    quantity = int(input(f\"Enter the quantity of {product}:\"))\n",
    "    inventory[product] = quantity\n",
    "\n",
    "print(f\"Inventory: {inventory}\")"
   ]
  },
  {
   "cell_type": "code",
   "execution_count": 2,
   "id": "a8eefb23",
   "metadata": {},
   "outputs": [
    {
     "name": "stdout",
     "output_type": "stream",
     "text": [
      "{'hat', 't-shirt'}\n"
     ]
    }
   ],
   "source": [
    "#Compra del usuario\n",
    "\n",
    "customer_orders = set()  \n",
    "\n",
    "while True :\n",
    "    product = input(\"Enter the name of a product do you want to order: \").lower()\n",
    "    if product in products:\n",
    "        customer_orders.add(product)\n",
    "    else:\n",
    "        print(\"Invalid product\")\n",
    "    add_another = input(\"Do you want another product? Yes/No\").lower()\n",
    "    if add_another != \"yes\" :\n",
    "        break\n",
    "\n",
    "print(customer_orders)"
   ]
  },
  {
   "cell_type": "code",
   "execution_count": 3,
   "id": "d191bf6f",
   "metadata": {},
   "outputs": [
    {
     "name": "stdout",
     "output_type": "stream",
     "text": [
      "Order Stadistics:\n",
      "Total products ordered: 2\n",
      "Percentage of products ordered: 6.451612903225806\n"
     ]
    }
   ],
   "source": [
    " #Hacemos una suma de los productos adquiridos y el porcentaje que suponen del total de productos\n",
    "\n",
    "total_products_ordered = len(customer_orders)                                              \n",
    "total_available_products = sum(map(int, inventory.values()))\n",
    "percentage_products_ordered = (total_products_ordered / total_available_products) * 100\n",
    "order_status = (total_products_ordered, percentage_products_ordered)\n",
    "\n",
    "print(\"Order Stadistics:\")\n",
    "print(f\"Total products ordered: {total_products_ordered}\")\n",
    "print(f\"Percentage of products ordered: {percentage_products_ordered}\")"
   ]
  },
  {
   "cell_type": "code",
   "execution_count": 4,
   "id": "712a24fe",
   "metadata": {},
   "outputs": [
    {
     "name": "stdout",
     "output_type": "stream",
     "text": [
      "Updated inventory:\n",
      "t-shirt: 5\n",
      "mug: 5\n",
      "hat: 8\n",
      "book: 6\n",
      "keychain: 5\n"
     ]
    }
   ],
   "source": [
    "#Actualizamos el inventario\n",
    "\n",
    "for product in customer_orders:                                                         \n",
    "    inventory[product] -= 1\n",
    "\n",
    "print(\"Updated inventory:\")\n",
    "for product, quantity in inventory.items():\n",
    "    print(f\"{product}: {quantity}\")"
   ]
  }
 ],
 "metadata": {
  "kernelspec": {
   "display_name": "Python 3 (ipykernel)",
   "language": "python",
   "name": "python3"
  },
  "language_info": {
   "codemirror_mode": {
    "name": "ipython",
    "version": 3
   },
   "file_extension": ".py",
   "mimetype": "text/x-python",
   "name": "python",
   "nbconvert_exporter": "python",
   "pygments_lexer": "ipython3",
   "version": "3.11.7"
  }
 },
 "nbformat": 4,
 "nbformat_minor": 5
}
